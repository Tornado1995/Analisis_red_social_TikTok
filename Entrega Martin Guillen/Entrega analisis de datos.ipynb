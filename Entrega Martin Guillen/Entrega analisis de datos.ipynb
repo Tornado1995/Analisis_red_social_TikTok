{
 "cells": [
  {
   "cell_type": "markdown",
   "id": "397e223f-aa6b-40db-a220-368a932e3f14",
   "metadata": {},
   "source": [
    "#  TikTok sera la mejor red social para hacer publicidad? \n",
    "\n"
   ]
  },
  {
   "cell_type": "markdown",
   "id": "b562f581-6841-4271-a6a6-ab8e44815b3d",
   "metadata": {},
   "source": [
    "## Introduccion\n"
   ]
  },
  {
   "cell_type": "markdown",
   "id": "30f5b9a0-cd99-4090-aaeb-e4e036a9456a",
   "metadata": {},
   "source": [
    "Es de gran interes analizar las redes sociales ya que es un lugar donde las empresas cada vez inviertnen mas en publicidad. Se realizara un analisis de datos obtenidos de las principales redes sociales con el objetivo de contestar preguntas que optimizen las posibles campañas publicitarias:\n",
    "¿Cual es el generador de contenido con mas seguidores?,¿Media de visitas por publicacion?,¿Media seguidores en la red social?. Obteniendo esa informacion se pueden obtener indicadores clave para optimizar los resultados de una campaña publicitaria.\n",
    "\n",
    "Optimizacion: ¿Cuanto es la media de seguidores para considerar cooperar con un generador de contenido?,¿Cuantas es la media de visitas para considerar cooperar con un generador de contenido? ¿Cuanto es la media de likes para considerar cooperar con un generador de contenido?"
   ]
  },
  {
   "cell_type": "markdown",
   "id": "9e7962cd-ba85-48f6-8160-250bf70c4881",
   "metadata": {},
   "source": [
    "## Contexto\n",
    "\n",
    "La red social Tik Tok actualmente es la mas utilizada en el mundo. Su principal contenido son videos cortos de duracion de 1 segundo hasta 10 minutos. Se espera que con los resultados del analisis de las interacciones de los principales generadores de contenido de la plataforma, surgan datos e indicadores para toamar decisiones al momento de realizar una campaña publicitaria en la plataforma o trabajando con un generador de contenido."
   ]
  },
  {
   "cell_type": "markdown",
   "id": "311422f2-b787-45fe-9996-460d63394ebe",
   "metadata": {},
   "source": [
    "## Datos"
   ]
  },
  {
   "cell_type": "markdown",
   "id": "b425be4b-891b-44ca-a1e3-619350e431d5",
   "metadata": {},
   "source": [
    "* Los datos utilizados para realizar el analisis fueron tomados de la base de datos publica de la plataforma"
   ]
  },
  {
   "cell_type": "code",
   "execution_count": 1,
   "id": "29c359f1-b7e0-40de-abba-88346ec23865",
   "metadata": {},
   "outputs": [],
   "source": [
    "import pandas as pd"
   ]
  },
  {
   "cell_type": "code",
   "execution_count": 2,
   "id": "f1b379d3-99b8-48bb-9f86-72698a3bb5e9",
   "metadata": {
    "tags": []
   },
   "outputs": [],
   "source": [
    "tik_tok_df = pd.read_csv('./entrega/datasets/social_media_influ/social media influencers - tiktok.csv')\n"
   ]
  },
  {
   "cell_type": "code",
   "execution_count": 3,
   "id": "1124f19b-578e-4fa5-8317-3fae7c85ef94",
   "metadata": {
    "tags": []
   },
   "outputs": [
    {
     "data": {
      "text/html": [
       "<div>\n",
       "<style scoped>\n",
       "    .dataframe tbody tr th:only-of-type {\n",
       "        vertical-align: middle;\n",
       "    }\n",
       "\n",
       "    .dataframe tbody tr th {\n",
       "        vertical-align: top;\n",
       "    }\n",
       "\n",
       "    .dataframe thead th {\n",
       "        text-align: right;\n",
       "    }\n",
       "</style>\n",
       "<table border=\"1\" class=\"dataframe\">\n",
       "  <thead>\n",
       "    <tr style=\"text-align: right;\">\n",
       "      <th></th>\n",
       "      <th>Tiktoker name</th>\n",
       "      <th>Tiktok name</th>\n",
       "      <th>Subscribers count</th>\n",
       "      <th>Views avg.</th>\n",
       "      <th>Likes avg</th>\n",
       "      <th>Comments avg.</th>\n",
       "      <th>Shares avg</th>\n",
       "    </tr>\n",
       "  </thead>\n",
       "  <tbody>\n",
       "    <tr>\n",
       "      <th>0</th>\n",
       "      <td>ekin.721</td>\n",
       "      <td>MOMO’s</td>\n",
       "      <td>221.7K</td>\n",
       "      <td>26M</td>\n",
       "      <td>2.8M</td>\n",
       "      <td>29.4K</td>\n",
       "      <td>116.4K</td>\n",
       "    </tr>\n",
       "    <tr>\n",
       "      <th>1</th>\n",
       "      <td>dojacat</td>\n",
       "      <td>Doja Cat</td>\n",
       "      <td>22.2M</td>\n",
       "      <td>25.4M</td>\n",
       "      <td>5M</td>\n",
       "      <td>36.7K</td>\n",
       "      <td>46.8K</td>\n",
       "    </tr>\n",
       "    <tr>\n",
       "      <th>2</th>\n",
       "      <td>kiet.ac.quy</td>\n",
       "      <td>Kiệt Ắk Wỷ</td>\n",
       "      <td>2.1M</td>\n",
       "      <td>20.7M</td>\n",
       "      <td>3.5M</td>\n",
       "      <td>38.8K</td>\n",
       "      <td>33.9K</td>\n",
       "    </tr>\n",
       "    <tr>\n",
       "      <th>3</th>\n",
       "      <td>charlidamelio</td>\n",
       "      <td>charli d’amelio</td>\n",
       "      <td>135.4M</td>\n",
       "      <td>18.7M</td>\n",
       "      <td>2.6M</td>\n",
       "      <td>54.7K</td>\n",
       "      <td>35.2K</td>\n",
       "    </tr>\n",
       "    <tr>\n",
       "      <th>4</th>\n",
       "      <td>luvadepedreiro</td>\n",
       "      <td>Iran Ferreira (Lai)</td>\n",
       "      <td>11.4M</td>\n",
       "      <td>24.8M</td>\n",
       "      <td>2.6M</td>\n",
       "      <td>32.7K</td>\n",
       "      <td>26.8K</td>\n",
       "    </tr>\n",
       "  </tbody>\n",
       "</table>\n",
       "</div>"
      ],
      "text/plain": [
       "    Tiktoker name          Tiktok name Subscribers count Views avg. Likes avg  \\\n",
       "0        ekin.721               MOMO’s            221.7K        26M      2.8M   \n",
       "1         dojacat             Doja Cat             22.2M      25.4M        5M   \n",
       "2     kiet.ac.quy           Kiệt Ắk Wỷ              2.1M      20.7M      3.5M   \n",
       "3   charlidamelio      charli d’amelio            135.4M      18.7M      2.6M   \n",
       "4  luvadepedreiro  Iran Ferreira (Lai)             11.4M      24.8M      2.6M   \n",
       "\n",
       "  Comments avg. Shares avg  \n",
       "0         29.4K     116.4K  \n",
       "1         36.7K      46.8K  \n",
       "2         38.8K      33.9K  \n",
       "3         54.7K      35.2K  \n",
       "4         32.7K      26.8K  "
      ]
     },
     "execution_count": 3,
     "metadata": {},
     "output_type": "execute_result"
    }
   ],
   "source": [
    "tik_tok_df.head()"
   ]
  },
  {
   "cell_type": "markdown",
   "id": "fec41ecc-045c-45f2-a37e-7bc97cf5cdc7",
   "metadata": {},
   "source": [
    "## Metodologia"
   ]
  },
  {
   "cell_type": "markdown",
   "id": "c5bce406-ec93-4af0-be87-fac87411b862",
   "metadata": {
    "tags": []
   },
   "source": [
    "### Se realiza una limpieza y adaptacion de los datos para trabajar:\n",
    "\n",
    "* Se formatea los nombres de las levels para formalizar al formato Snake_case"
   ]
  },
  {
   "cell_type": "code",
   "execution_count": 7,
   "id": "2051156c-aad5-4e03-aaac-11094f3b0035",
   "metadata": {
    "tags": []
   },
   "outputs": [],
   "source": [
    "def label_to_snake_case(label):\n",
    "    return label.lower().replace(' ', '_').replace('.','')"
   ]
  },
  {
   "cell_type": "code",
   "execution_count": 8,
   "id": "91ab3ef1-9201-4c79-aa75-828e63f88647",
   "metadata": {
    "jupyter": {
     "source_hidden": true
    },
    "tags": []
   },
   "outputs": [],
   "source": [
    "rename_dict ={}\n",
    "\n",
    "for label in tik_tok_df.columns:\n",
    "    rename_dict[label] = label_to_snake_case(label)\n",
    "    \n"
   ]
  },
  {
   "cell_type": "code",
   "execution_count": 9,
   "id": "7b4aa9f0-2e4b-4594-a6b4-12012453c8bf",
   "metadata": {
    "jupyter": {
     "source_hidden": true
    },
    "tags": []
   },
   "outputs": [],
   "source": [
    "tik_tok_df.rename(columns=rename_dict)\n",
    "\n",
    "tik_tok_df = tik_tok_df.rename(columns=rename_dict)"
   ]
  },
  {
   "cell_type": "code",
   "execution_count": 10,
   "id": "4ffbffb8-77c9-42f5-89cb-6130570bbf44",
   "metadata": {
    "collapsed": true,
    "jupyter": {
     "outputs_hidden": true,
     "source_hidden": true
    },
    "tags": []
   },
   "outputs": [
    {
     "data": {
      "text/plain": [
       "Index(['tiktoker_name', 'tiktok_name', 'subscribers_count', 'views_avg',\n",
       "       'likes_avg', 'comments_avg', 'shares_avg'],\n",
       "      dtype='object')"
      ]
     },
     "execution_count": 10,
     "metadata": {},
     "output_type": "execute_result"
    }
   ],
   "source": [
    "tik_tok_df.columns"
   ]
  },
  {
   "cell_type": "markdown",
   "id": "25659521-a6fa-4016-906f-be0fc017a98b",
   "metadata": {},
   "source": [
    "* En el analisis previo encontramos dos datos `NaN` en la columna TikToker_name. Como\n",
    "  no influye en el analisis se decide sustituir `NaN` por nombre."
   ]
  },
  {
   "cell_type": "code",
   "execution_count": 11,
   "id": "d6cbcf29-c24e-4dde-ad3b-fe2a39b1e11c",
   "metadata": {
    "jupyter": {
     "source_hidden": true
    },
    "tags": []
   },
   "outputs": [],
   "source": [
    "import numpy as np"
   ]
  },
  {
   "cell_type": "code",
   "execution_count": 12,
   "id": "a39253a2-65ee-4408-96e1-13227545558b",
   "metadata": {
    "collapsed": true,
    "jupyter": {
     "outputs_hidden": true,
     "source_hidden": true
    },
    "tags": []
   },
   "outputs": [
    {
     "data": {
      "text/html": [
       "<div>\n",
       "<style scoped>\n",
       "    .dataframe tbody tr th:only-of-type {\n",
       "        vertical-align: middle;\n",
       "    }\n",
       "\n",
       "    .dataframe tbody tr th {\n",
       "        vertical-align: top;\n",
       "    }\n",
       "\n",
       "    .dataframe thead th {\n",
       "        text-align: right;\n",
       "    }\n",
       "</style>\n",
       "<table border=\"1\" class=\"dataframe\">\n",
       "  <thead>\n",
       "    <tr style=\"text-align: right;\">\n",
       "      <th></th>\n",
       "      <th>tiktoker_name</th>\n",
       "      <th>tiktok_name</th>\n",
       "      <th>subscribers_count</th>\n",
       "      <th>views_avg</th>\n",
       "      <th>likes_avg</th>\n",
       "      <th>comments_avg</th>\n",
       "      <th>shares_avg</th>\n",
       "    </tr>\n",
       "  </thead>\n",
       "  <tbody>\n",
       "    <tr>\n",
       "      <th>0</th>\n",
       "      <td>ekin.721</td>\n",
       "      <td>MOMO’s</td>\n",
       "      <td>221.7K</td>\n",
       "      <td>26M</td>\n",
       "      <td>2.8M</td>\n",
       "      <td>29.4K</td>\n",
       "      <td>116.4K</td>\n",
       "    </tr>\n",
       "    <tr>\n",
       "      <th>1</th>\n",
       "      <td>dojacat</td>\n",
       "      <td>Doja Cat</td>\n",
       "      <td>22.2M</td>\n",
       "      <td>25.4M</td>\n",
       "      <td>5M</td>\n",
       "      <td>36.7K</td>\n",
       "      <td>46.8K</td>\n",
       "    </tr>\n",
       "    <tr>\n",
       "      <th>2</th>\n",
       "      <td>kiet.ac.quy</td>\n",
       "      <td>Kiệt Ắk Wỷ</td>\n",
       "      <td>2.1M</td>\n",
       "      <td>20.7M</td>\n",
       "      <td>3.5M</td>\n",
       "      <td>38.8K</td>\n",
       "      <td>33.9K</td>\n",
       "    </tr>\n",
       "    <tr>\n",
       "      <th>3</th>\n",
       "      <td>charlidamelio</td>\n",
       "      <td>charli d’amelio</td>\n",
       "      <td>135.4M</td>\n",
       "      <td>18.7M</td>\n",
       "      <td>2.6M</td>\n",
       "      <td>54.7K</td>\n",
       "      <td>35.2K</td>\n",
       "    </tr>\n",
       "    <tr>\n",
       "      <th>4</th>\n",
       "      <td>luvadepedreiro</td>\n",
       "      <td>Iran Ferreira (Lai)</td>\n",
       "      <td>11.4M</td>\n",
       "      <td>24.8M</td>\n",
       "      <td>2.6M</td>\n",
       "      <td>32.7K</td>\n",
       "      <td>26.8K</td>\n",
       "    </tr>\n",
       "    <tr>\n",
       "      <th>...</th>\n",
       "      <td>...</td>\n",
       "      <td>...</td>\n",
       "      <td>...</td>\n",
       "      <td>...</td>\n",
       "      <td>...</td>\n",
       "      <td>...</td>\n",
       "      <td>...</td>\n",
       "    </tr>\n",
       "    <tr>\n",
       "      <th>995</th>\n",
       "      <td>nicolebernaal</td>\n",
       "      <td>nicolebernaal</td>\n",
       "      <td>4M</td>\n",
       "      <td>2.2M</td>\n",
       "      <td>351.3K</td>\n",
       "      <td>957</td>\n",
       "      <td>195</td>\n",
       "    </tr>\n",
       "    <tr>\n",
       "      <th>996</th>\n",
       "      <td>bellaretamosa</td>\n",
       "      <td>bella</td>\n",
       "      <td>5.1M</td>\n",
       "      <td>2.5M</td>\n",
       "      <td>340.4K</td>\n",
       "      <td>901</td>\n",
       "      <td>145</td>\n",
       "    </tr>\n",
       "    <tr>\n",
       "      <th>997</th>\n",
       "      <td>tunico80</td>\n",
       "      <td>🌠Antonio Tonon🌠</td>\n",
       "      <td>5.8M</td>\n",
       "      <td>1M</td>\n",
       "      <td>206.8K</td>\n",
       "      <td>2K</td>\n",
       "      <td>2.1K</td>\n",
       "    </tr>\n",
       "    <tr>\n",
       "      <th>998</th>\n",
       "      <td>armon.warren</td>\n",
       "      <td>Armoney</td>\n",
       "      <td>1.2M</td>\n",
       "      <td>1.9M</td>\n",
       "      <td>300.8K</td>\n",
       "      <td>904</td>\n",
       "      <td>630</td>\n",
       "    </tr>\n",
       "    <tr>\n",
       "      <th>999</th>\n",
       "      <td>soanhvadiephihi</td>\n",
       "      <td>Soanh x Diệp 💎</td>\n",
       "      <td>1.6M</td>\n",
       "      <td>2.6M</td>\n",
       "      <td>273.2K</td>\n",
       "      <td>720</td>\n",
       "      <td>530</td>\n",
       "    </tr>\n",
       "  </tbody>\n",
       "</table>\n",
       "<p>1000 rows × 7 columns</p>\n",
       "</div>"
      ],
      "text/plain": [
       "       tiktoker_name          tiktok_name subscribers_count views_avg  \\\n",
       "0           ekin.721               MOMO’s            221.7K       26M   \n",
       "1            dojacat             Doja Cat             22.2M     25.4M   \n",
       "2        kiet.ac.quy           Kiệt Ắk Wỷ              2.1M     20.7M   \n",
       "3      charlidamelio      charli d’amelio            135.4M     18.7M   \n",
       "4     luvadepedreiro  Iran Ferreira (Lai)             11.4M     24.8M   \n",
       "..               ...                  ...               ...       ...   \n",
       "995    nicolebernaal        nicolebernaal                4M      2.2M   \n",
       "996    bellaretamosa                bella              5.1M      2.5M   \n",
       "997         tunico80      🌠Antonio Tonon🌠              5.8M        1M   \n",
       "998     armon.warren              Armoney              1.2M      1.9M   \n",
       "999  soanhvadiephihi       Soanh x Diệp 💎              1.6M      2.6M   \n",
       "\n",
       "    likes_avg comments_avg shares_avg  \n",
       "0        2.8M        29.4K     116.4K  \n",
       "1          5M        36.7K      46.8K  \n",
       "2        3.5M        38.8K      33.9K  \n",
       "3        2.6M        54.7K      35.2K  \n",
       "4        2.6M        32.7K      26.8K  \n",
       "..        ...          ...        ...  \n",
       "995    351.3K          957        195  \n",
       "996    340.4K          901        145  \n",
       "997    206.8K           2K       2.1K  \n",
       "998    300.8K          904        630  \n",
       "999    273.2K          720        530  \n",
       "\n",
       "[1000 rows x 7 columns]"
      ]
     },
     "execution_count": 12,
     "metadata": {},
     "output_type": "execute_result"
    }
   ],
   "source": [
    "tik_tok_df.replace(np.nan,'Nombre')"
   ]
  },
  {
   "cell_type": "markdown",
   "id": "6363d61f-7a03-4d3d-bb9b-6f8ca7e95c13",
   "metadata": {},
   "source": [
    "* Se convierte a formato numerico los datos proporcionados por\n",
    "  por la plataforma para posteriormente realizar el analisis"
   ]
  },
  {
   "cell_type": "code",
   "execution_count": 13,
   "id": "048d4b69-dec3-494e-919f-2ee8c1466302",
   "metadata": {
    "jupyter": {
     "source_hidden": true
    },
    "tags": []
   },
   "outputs": [],
   "source": [
    "def pasar_a_millones(dataframe,serie,level):\n",
    "    \n",
    "    \n",
    "    \"\"\"\n",
    "    pasa la nomesclatura de redes sociales a numero y transfomra\n",
    "    la serie del data frame.\n",
    "    \n",
    "    \"\"\"\n",
    "    \n",
    "    number_dict = {}\n",
    "    \n",
    "    for numero in serie:\n",
    "        \n",
    "        if 'M' in numero:\n",
    "             number_dict[numero] =  round(float(numero.replace('M','')),1)*1000000\n",
    "        \n",
    "        elif 'K' in numero:\n",
    "             number_dict[numero] = round(float(numero.replace('K','')),1)*100000 \n",
    "    \n",
    "    dataframe[level] = dataframe[level].map(number_dict)  # problemas con los datos que no son enteros\n",
    "\n",
    "\n",
    "    return print('ok')  # preguntar como aplicar el asstype\n"
   ]
  },
  {
   "cell_type": "code",
   "execution_count": 14,
   "id": "5522f533-3c54-427f-bc5d-58afe64addac",
   "metadata": {
    "collapsed": true,
    "jupyter": {
     "outputs_hidden": true,
     "source_hidden": true
    },
    "tags": []
   },
   "outputs": [
    {
     "name": "stdout",
     "output_type": "stream",
     "text": [
      "ok\n"
     ]
    }
   ],
   "source": [
    "pasar_a_millones(tik_tok_df,tik_tok_df['subscribers_count'],'subscribers_count')"
   ]
  },
  {
   "cell_type": "code",
   "execution_count": 15,
   "id": "80259006-f60f-47cd-8bc5-873597e10cd4",
   "metadata": {
    "collapsed": true,
    "jupyter": {
     "outputs_hidden": true,
     "source_hidden": true
    },
    "tags": []
   },
   "outputs": [
    {
     "name": "stdout",
     "output_type": "stream",
     "text": [
      "ok\n"
     ]
    }
   ],
   "source": [
    "pasar_a_millones(tik_tok_df,tik_tok_df['views_avg'],'views_avg')"
   ]
  },
  {
   "cell_type": "code",
   "execution_count": 16,
   "id": "98fa3326-f0d2-4afe-8615-3f6e6a7bac31",
   "metadata": {
    "collapsed": true,
    "jupyter": {
     "outputs_hidden": true,
     "source_hidden": true
    },
    "tags": []
   },
   "outputs": [
    {
     "name": "stdout",
     "output_type": "stream",
     "text": [
      "ok\n"
     ]
    }
   ],
   "source": [
    "pasar_a_millones(tik_tok_df,tik_tok_df['likes_avg'],'likes_avg')"
   ]
  },
  {
   "cell_type": "code",
   "execution_count": 17,
   "id": "83d2937c-cb48-4501-8cf2-8c964370bd19",
   "metadata": {
    "collapsed": true,
    "jupyter": {
     "outputs_hidden": true,
     "source_hidden": true
    },
    "tags": []
   },
   "outputs": [
    {
     "name": "stdout",
     "output_type": "stream",
     "text": [
      "ok\n"
     ]
    }
   ],
   "source": [
    "pasar_a_millones(tik_tok_df,tik_tok_df['comments_avg'],'comments_avg')"
   ]
  },
  {
   "cell_type": "code",
   "execution_count": 18,
   "id": "6251fc7a-5877-4395-8bdb-e111975a328b",
   "metadata": {
    "collapsed": true,
    "jupyter": {
     "outputs_hidden": true,
     "source_hidden": true
    },
    "tags": []
   },
   "outputs": [
    {
     "name": "stdout",
     "output_type": "stream",
     "text": [
      "ok\n"
     ]
    }
   ],
   "source": [
    "pasar_a_millones(tik_tok_df,tik_tok_df['shares_avg'],'shares_avg')"
   ]
  },
  {
   "cell_type": "code",
   "execution_count": 19,
   "id": "1951d570-b220-4e6d-9171-93935c8db746",
   "metadata": {
    "jupyter": {
     "source_hidden": true
    },
    "tags": []
   },
   "outputs": [
    {
     "data": {
      "text/html": [
       "<div>\n",
       "<style scoped>\n",
       "    .dataframe tbody tr th:only-of-type {\n",
       "        vertical-align: middle;\n",
       "    }\n",
       "\n",
       "    .dataframe tbody tr th {\n",
       "        vertical-align: top;\n",
       "    }\n",
       "\n",
       "    .dataframe thead th {\n",
       "        text-align: right;\n",
       "    }\n",
       "</style>\n",
       "<table border=\"1\" class=\"dataframe\">\n",
       "  <thead>\n",
       "    <tr style=\"text-align: right;\">\n",
       "      <th></th>\n",
       "      <th>tiktoker_name</th>\n",
       "      <th>tiktok_name</th>\n",
       "      <th>subscribers_count</th>\n",
       "      <th>views_avg</th>\n",
       "      <th>likes_avg</th>\n",
       "      <th>comments_avg</th>\n",
       "      <th>shares_avg</th>\n",
       "    </tr>\n",
       "  </thead>\n",
       "  <tbody>\n",
       "    <tr>\n",
       "      <th>0</th>\n",
       "      <td>ekin.721</td>\n",
       "      <td>MOMO’s</td>\n",
       "      <td>22170000.0</td>\n",
       "      <td>26000000.0</td>\n",
       "      <td>2800000.0</td>\n",
       "      <td>2940000.0</td>\n",
       "      <td>11640000.0</td>\n",
       "    </tr>\n",
       "    <tr>\n",
       "      <th>1</th>\n",
       "      <td>dojacat</td>\n",
       "      <td>Doja Cat</td>\n",
       "      <td>22200000.0</td>\n",
       "      <td>25400000.0</td>\n",
       "      <td>5000000.0</td>\n",
       "      <td>3670000.0</td>\n",
       "      <td>4680000.0</td>\n",
       "    </tr>\n",
       "    <tr>\n",
       "      <th>2</th>\n",
       "      <td>kiet.ac.quy</td>\n",
       "      <td>Kiệt Ắk Wỷ</td>\n",
       "      <td>2100000.0</td>\n",
       "      <td>20700000.0</td>\n",
       "      <td>3500000.0</td>\n",
       "      <td>3880000.0</td>\n",
       "      <td>3390000.0</td>\n",
       "    </tr>\n",
       "    <tr>\n",
       "      <th>3</th>\n",
       "      <td>charlidamelio</td>\n",
       "      <td>charli d’amelio</td>\n",
       "      <td>135400000.0</td>\n",
       "      <td>18700000.0</td>\n",
       "      <td>2600000.0</td>\n",
       "      <td>5470000.0</td>\n",
       "      <td>3520000.0</td>\n",
       "    </tr>\n",
       "    <tr>\n",
       "      <th>4</th>\n",
       "      <td>luvadepedreiro</td>\n",
       "      <td>Iran Ferreira (Lai)</td>\n",
       "      <td>11400000.0</td>\n",
       "      <td>24800000.0</td>\n",
       "      <td>2600000.0</td>\n",
       "      <td>3270000.0</td>\n",
       "      <td>2680000.0</td>\n",
       "    </tr>\n",
       "  </tbody>\n",
       "</table>\n",
       "</div>"
      ],
      "text/plain": [
       "    tiktoker_name          tiktok_name  subscribers_count   views_avg  \\\n",
       "0        ekin.721               MOMO’s         22170000.0  26000000.0   \n",
       "1         dojacat             Doja Cat         22200000.0  25400000.0   \n",
       "2     kiet.ac.quy           Kiệt Ắk Wỷ          2100000.0  20700000.0   \n",
       "3   charlidamelio      charli d’amelio        135400000.0  18700000.0   \n",
       "4  luvadepedreiro  Iran Ferreira (Lai)         11400000.0  24800000.0   \n",
       "\n",
       "   likes_avg  comments_avg  shares_avg  \n",
       "0  2800000.0     2940000.0  11640000.0  \n",
       "1  5000000.0     3670000.0   4680000.0  \n",
       "2  3500000.0     3880000.0   3390000.0  \n",
       "3  2600000.0     5470000.0   3520000.0  \n",
       "4  2600000.0     3270000.0   2680000.0  "
      ]
     },
     "execution_count": 19,
     "metadata": {},
     "output_type": "execute_result"
    }
   ],
   "source": [
    "tik_tok_df.head()"
   ]
  },
  {
   "cell_type": "markdown",
   "id": "ebb5924a-8c6b-4692-8dfd-a672f09253e6",
   "metadata": {},
   "source": [
    "|     **Columna**    | **Tipo de dato** | **Descripcion del tipo de dato** |\n",
    "|:-----------------:|:---------------:|:-------------------------------:|\n",
    "| TikToker name     | `Str`           | Categorico nominal              |\n",
    "| TikTok name       | `Str`           | Categorico nominal              |\n",
    "| View avg          | `Str`           | Numerico entero                 |\n",
    "| Subscribers count | `Str`           | Numerico entero                 |\n",
    "| Likes avg         | `Str`           | Numerico entero                 |\n",
    "| comments avg.     | `Str`           | Numerico entero                 |\n",
    "| Shares avg        | `Str`           | Categorico entero               |\n",
    "\n",
    "\n"
   ]
  },
  {
   "cell_type": "markdown",
   "id": "9545d36e-7cf3-4d7d-b0e9-7432835544da",
   "metadata": {},
   "source": [
    "*Importamos los datos ya con las correcciones perteninentes*"
   ]
  },
  {
   "cell_type": "code",
   "execution_count": 20,
   "id": "189c4080-dc0b-4dbc-bba5-7cda539c9088",
   "metadata": {},
   "outputs": [],
   "source": [
    "tik_tok_df.to_csv('datasets/TikTok_dates.csv',index=False,decimal='.')  # problema con decimales\n"
   ]
  },
  {
   "cell_type": "code",
   "execution_count": 56,
   "id": "aebb3557-37fa-4d7c-ab4b-f56c6dd9e37b",
   "metadata": {
    "collapsed": true,
    "jupyter": {
     "outputs_hidden": true,
     "source_hidden": true
    },
    "tags": []
   },
   "outputs": [
    {
     "data": {
      "text/html": [
       "<div>\n",
       "<style scoped>\n",
       "    .dataframe tbody tr th:only-of-type {\n",
       "        vertical-align: middle;\n",
       "    }\n",
       "\n",
       "    .dataframe tbody tr th {\n",
       "        vertical-align: top;\n",
       "    }\n",
       "\n",
       "    .dataframe thead th {\n",
       "        text-align: right;\n",
       "    }\n",
       "</style>\n",
       "<table border=\"1\" class=\"dataframe\">\n",
       "  <thead>\n",
       "    <tr style=\"text-align: right;\">\n",
       "      <th></th>\n",
       "      <th>subscribers_count</th>\n",
       "      <th>views_avg</th>\n",
       "      <th>likes_avg</th>\n",
       "      <th>comments_avg</th>\n",
       "      <th>shares_avg</th>\n",
       "    </tr>\n",
       "  </thead>\n",
       "  <tbody>\n",
       "    <tr>\n",
       "      <th>count</th>\n",
       "      <td>1.000000e+03</td>\n",
       "      <td>1.000000e+03</td>\n",
       "      <td>1.000000e+03</td>\n",
       "      <td>8.830000e+02</td>\n",
       "      <td>7.220000e+02</td>\n",
       "    </tr>\n",
       "    <tr>\n",
       "      <th>mean</th>\n",
       "      <td>1.497273e+07</td>\n",
       "      <td>5.377190e+06</td>\n",
       "      <td>3.282318e+07</td>\n",
       "      <td>3.953907e+05</td>\n",
       "      <td>5.203047e+05</td>\n",
       "    </tr>\n",
       "    <tr>\n",
       "      <th>std</th>\n",
       "      <td>2.128156e+07</td>\n",
       "      <td>1.380322e+07</td>\n",
       "      <td>1.917063e+07</td>\n",
       "      <td>4.625405e+05</td>\n",
       "      <td>8.853869e+05</td>\n",
       "    </tr>\n",
       "    <tr>\n",
       "      <th>min</th>\n",
       "      <td>2.100000e+05</td>\n",
       "      <td>1.000000e+06</td>\n",
       "      <td>1.000000e+06</td>\n",
       "      <td>1.000000e+05</td>\n",
       "      <td>1.000000e+05</td>\n",
       "    </tr>\n",
       "    <tr>\n",
       "      <th>25%</th>\n",
       "      <td>2.800000e+06</td>\n",
       "      <td>1.800000e+06</td>\n",
       "      <td>1.990750e+07</td>\n",
       "      <td>1.700000e+05</td>\n",
       "      <td>1.700000e+05</td>\n",
       "    </tr>\n",
       "    <tr>\n",
       "      <th>50%</th>\n",
       "      <td>6.600000e+06</td>\n",
       "      <td>2.500000e+06</td>\n",
       "      <td>2.884500e+07</td>\n",
       "      <td>2.600000e+05</td>\n",
       "      <td>2.700000e+05</td>\n",
       "    </tr>\n",
       "    <tr>\n",
       "      <th>75%</th>\n",
       "      <td>1.602500e+07</td>\n",
       "      <td>3.600000e+06</td>\n",
       "      <td>4.095250e+07</td>\n",
       "      <td>4.200000e+05</td>\n",
       "      <td>5.575000e+05</td>\n",
       "    </tr>\n",
       "    <tr>\n",
       "      <th>max</th>\n",
       "      <td>1.354000e+08</td>\n",
       "      <td>9.824000e+07</td>\n",
       "      <td>9.995000e+07</td>\n",
       "      <td>5.470000e+06</td>\n",
       "      <td>1.518000e+07</td>\n",
       "    </tr>\n",
       "  </tbody>\n",
       "</table>\n",
       "</div>"
      ],
      "text/plain": [
       "       subscribers_count     views_avg     likes_avg  comments_avg  \\\n",
       "count       1.000000e+03  1.000000e+03  1.000000e+03  8.830000e+02   \n",
       "mean        1.497273e+07  5.377190e+06  3.282318e+07  3.953907e+05   \n",
       "std         2.128156e+07  1.380322e+07  1.917063e+07  4.625405e+05   \n",
       "min         2.100000e+05  1.000000e+06  1.000000e+06  1.000000e+05   \n",
       "25%         2.800000e+06  1.800000e+06  1.990750e+07  1.700000e+05   \n",
       "50%         6.600000e+06  2.500000e+06  2.884500e+07  2.600000e+05   \n",
       "75%         1.602500e+07  3.600000e+06  4.095250e+07  4.200000e+05   \n",
       "max         1.354000e+08  9.824000e+07  9.995000e+07  5.470000e+06   \n",
       "\n",
       "         shares_avg  \n",
       "count  7.220000e+02  \n",
       "mean   5.203047e+05  \n",
       "std    8.853869e+05  \n",
       "min    1.000000e+05  \n",
       "25%    1.700000e+05  \n",
       "50%    2.700000e+05  \n",
       "75%    5.575000e+05  \n",
       "max    1.518000e+07  "
      ]
     },
     "execution_count": 56,
     "metadata": {},
     "output_type": "execute_result"
    }
   ],
   "source": [
    "tik_tok_df.describe()"
   ]
  },
  {
   "cell_type": "code",
   "execution_count": 57,
   "id": "2a04c416-7a8e-4cbf-92c1-25d6c39e6e11",
   "metadata": {
    "collapsed": true,
    "jupyter": {
     "outputs_hidden": true,
     "source_hidden": true
    },
    "tags": []
   },
   "outputs": [
    {
     "name": "stdout",
     "output_type": "stream",
     "text": [
      "<class 'pandas.core.frame.DataFrame'>\n",
      "RangeIndex: 1000 entries, 0 to 999\n",
      "Data columns (total 7 columns):\n",
      " #   Column             Non-Null Count  Dtype  \n",
      "---  ------             --------------  -----  \n",
      " 0   tiktoker_name      1000 non-null   object \n",
      " 1   tiktok_name        998 non-null    object \n",
      " 2   subscribers_count  1000 non-null   float64\n",
      " 3   views_avg          1000 non-null   float64\n",
      " 4   likes_avg          1000 non-null   float64\n",
      " 5   comments_avg       883 non-null    float64\n",
      " 6   shares_avg         722 non-null    float64\n",
      "dtypes: float64(5), object(2)\n",
      "memory usage: 54.8+ KB\n"
     ]
    }
   ],
   "source": [
    "tik_tok_df.info()"
   ]
  },
  {
   "cell_type": "markdown",
   "id": "abddd29e-bca8-4eb8-a380-336f9e8da822",
   "metadata": {},
   "source": [
    "**¿Cual es el generador de contenido con mas seguidores?**"
   ]
  },
  {
   "cell_type": "code",
   "execution_count": 42,
   "id": "f6510832-c937-4652-a249-c54d44804c66",
   "metadata": {
    "jupyter": {
     "source_hidden": true
    },
    "tags": []
   },
   "outputs": [],
   "source": [
    "max_seguirores = tik_tok_df.subscribers_count.max()"
   ]
  },
  {
   "cell_type": "code",
   "execution_count": 43,
   "id": "3c95f684-fdd2-4135-a2df-db7a6048e0db",
   "metadata": {
    "collapsed": true,
    "jupyter": {
     "outputs_hidden": true,
     "source_hidden": true
    },
    "tags": []
   },
   "outputs": [
    {
     "data": {
      "text/html": [
       "<div>\n",
       "<style scoped>\n",
       "    .dataframe tbody tr th:only-of-type {\n",
       "        vertical-align: middle;\n",
       "    }\n",
       "\n",
       "    .dataframe tbody tr th {\n",
       "        vertical-align: top;\n",
       "    }\n",
       "\n",
       "    .dataframe thead th {\n",
       "        text-align: right;\n",
       "    }\n",
       "</style>\n",
       "<table border=\"1\" class=\"dataframe\">\n",
       "  <thead>\n",
       "    <tr style=\"text-align: right;\">\n",
       "      <th></th>\n",
       "      <th>tiktoker_name</th>\n",
       "      <th>tiktok_name</th>\n",
       "      <th>subscribers_count</th>\n",
       "      <th>views_avg</th>\n",
       "      <th>likes_avg</th>\n",
       "      <th>comments_avg</th>\n",
       "      <th>shares_avg</th>\n",
       "    </tr>\n",
       "  </thead>\n",
       "  <tbody>\n",
       "    <tr>\n",
       "      <th>3</th>\n",
       "      <td>charlidamelio</td>\n",
       "      <td>charli d’amelio</td>\n",
       "      <td>135400000.0</td>\n",
       "      <td>18700000.0</td>\n",
       "      <td>2600000.0</td>\n",
       "      <td>5470000.0</td>\n",
       "      <td>3520000.0</td>\n",
       "    </tr>\n",
       "  </tbody>\n",
       "</table>\n",
       "</div>"
      ],
      "text/plain": [
       "   tiktoker_name      tiktok_name  subscribers_count   views_avg  likes_avg  \\\n",
       "3  charlidamelio  charli d’amelio        135400000.0  18700000.0  2600000.0   \n",
       "\n",
       "   comments_avg  shares_avg  \n",
       "3     5470000.0   3520000.0  "
      ]
     },
     "execution_count": 43,
     "metadata": {},
     "output_type": "execute_result"
    }
   ],
   "source": [
    "tik_tok_df[tik_tok_df.subscribers_count==max_seguirores]"
   ]
  },
  {
   "cell_type": "markdown",
   "id": "943c9682-0e86-4a2a-aa91-975363a8b143",
   "metadata": {},
   "source": [
    "El mayor generador de contenido con mas seguidores es Charli d´amelio con 135400000 de seguidores"
   ]
  },
  {
   "cell_type": "markdown",
   "id": "03e63c72-498d-4ec1-9df3-a68a1d435e00",
   "metadata": {},
   "source": [
    "**¿Cual es la Media de visitas por publicacion de los generadores de cotenido con mas seguidores?**"
   ]
  },
  {
   "cell_type": "code",
   "execution_count": 49,
   "id": "625a9f17-3e6a-4322-abaa-a01a4e98a9e3",
   "metadata": {
    "jupyter": {
     "source_hidden": true
    },
    "tags": []
   },
   "outputs": [],
   "source": [
    "mask_visitas = tik_tok_df.views_avg.mean()\n",
    "\n",
    "media_visitas = int(mask_visitas)"
   ]
  },
  {
   "cell_type": "markdown",
   "id": "14dc0b2d-dfb1-4fd4-b1fb-5ef0aa4664be",
   "metadata": {
    "tags": []
   },
   "source": [
    "La media de visitas por publicacion es de 5377190"
   ]
  },
  {
   "cell_type": "markdown",
   "id": "aed58227-3699-4497-9ef3-900f5c587790",
   "metadata": {},
   "source": [
    "**¿Media seguidores en la red social?**"
   ]
  },
  {
   "cell_type": "code",
   "execution_count": 53,
   "id": "28778109-e172-494e-be13-875e0ec5d8f1",
   "metadata": {
    "jupyter": {
     "source_hidden": true
    },
    "tags": []
   },
   "outputs": [],
   "source": [
    "mask_seguidores = tik_tok_df.subscribers_count.mean()\n",
    "\n",
    "media_seguidores = int(mask_seguidores)\n",
    "\n"
   ]
  },
  {
   "cell_type": "markdown",
   "id": "b0c944df-b382-4e75-a3f2-6af9899c377b",
   "metadata": {},
   "source": [
    "La media de cantidad de seguidores de los generadores de contenido mas populares de TikTok es de 14972730"
   ]
  },
  {
   "cell_type": "markdown",
   "id": "f89f3667-99dc-4386-841f-914341b51984",
   "metadata": {},
   "source": [
    "**Grafico de dispersion de la cantidad de likes por publicaion en funcion de los comentarios.**"
   ]
  },
  {
   "cell_type": "code",
   "execution_count": 73,
   "id": "8431469b-acca-4e9d-bb2c-f0286efd3f0d",
   "metadata": {
    "jupyter": {
     "source_hidden": true
    },
    "tags": []
   },
   "outputs": [
    {
     "data": {
      "text/plain": [
       "<AxesSubplot:xlabel='likes_avg', ylabel='comments_avg'>"
      ]
     },
     "execution_count": 73,
     "metadata": {},
     "output_type": "execute_result"
    },
    {
     "data": {
      "image/png": "[encoded data removed]",
      "text/plain": [
       "<Figure size 432x288 with 1 Axes>"
      ]
     },
     "metadata": {
      "needs_background": "light"
     },
     "output_type": "display_data"
    }
   ],
   "source": [
    "tik_tok_df.plot.scatter(x='likes_avg', y='comments_avg')"
   ]
  },
  {
   "cell_type": "markdown",
   "id": "38c7eafd-0598-4c0f-bfb9-88da1f9a2377",
   "metadata": {
    "tags": []
   },
   "source": [
    "**Numero de comentarios por publicacion de cada los TikTokers con mayor cantidad de seguidores.**\n"
   ]
  },
  {
   "cell_type": "code",
   "execution_count": 72,
   "id": "83acc331-8a09-44d8-9a94-77ec1b03590b",
   "metadata": {
    "jupyter": {
     "source_hidden": true
    },
    "tags": []
   },
   "outputs": [
    {
     "data": {
      "text/plain": [
       "<AxesSubplot:xlabel='tiktok_name'>"
      ]
     },
     "execution_count": 72,
     "metadata": {},
     "output_type": "execute_result"
    },
    {
     "data": {
      "image/png": "[encoded data removed]",
      "text/plain": [
       "<Figure size 432x288 with 1 Axes>"
      ]
     },
     "metadata": {
      "needs_background": "light"
     },
     "output_type": "display_data"
    }
   ],
   "source": [
    "tik_tok_df.plot.line(x='tiktok_name', y='comments_avg',c='red')"
   ]
  },
  {
   "cell_type": "markdown",
   "id": "7c665bac-ecbc-40c9-bbab-d4b41759b98f",
   "metadata": {},
   "source": [
    "## Conclusiones"
   ]
  },
  {
   "cell_type": "markdown",
   "id": "5ad24795-bce2-403d-9a2e-818ba2c0e464",
   "metadata": {},
   "source": [
    "Observando el analisis de los datos observamos : que al momento de decidir realizar\n",
    "una campaña de publicidad en la plataforma hay que tener en cuenta principalemte\n",
    "la cantidad de vistas por publicacion que tiene el generador de contenido. Ya que no\n",
    "son proporcionales a la catnidad de seguidores.\n",
    "\n",
    "Obsevando la media de vistas por publicacion en TikTok, un factor \n",
    "predominante va a ser el tipo de contenido al cual se enfoque los productos o servicios\n",
    "los cuales queremos promocionar.\n",
    "\n",
    "TikTok es una plataforma diversa donde sus TikTokers mas populares general un contenido\n",
    "de un tema en general lo que facilita al momento de seleccionar el publico objetivo.\n"
   ]
  },
  {
   "cell_type": "markdown",
   "id": "1c1b74c8-ab53-44b8-b8c5-358c44846770",
   "metadata": {},
   "source": [
    "## Anecdotas"
   ]
  },
  {
   "cell_type": "markdown",
   "id": "31dd61d3-a77f-4436-b3bf-ae8ff5a393bc",
   "metadata": {},
   "source": [
    "Obtener un archivo csv el cual especifique el tipo de contenido de cada TikToker."
   ]
  }
 ],
 "metadata": {
  "kernelspec": {
   "display_name": "Python 3 (ipykernel)",
   "language": "python",
   "name": "python3"
  },
  "language_info": {
   "codemirror_mode": {
    "name": "ipython",
    "version": 3
   },
   "file_extension": ".py",
   "mimetype": "text/x-python",
   "name": "python",
   "nbconvert_exporter": "python",
   "pygments_lexer": "ipython3",
   "version": "3.9.5"
  }
 },
 "nbformat": 4,
 "nbformat_minor": 5
}
